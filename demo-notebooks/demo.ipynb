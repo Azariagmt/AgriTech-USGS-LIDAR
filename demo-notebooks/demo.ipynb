{
 "cells": [
  {
   "cell_type": "code",
   "execution_count": 1,
   "source": [
    "from usgslidar.get_data import get_geopandas_dataframe"
   ],
   "outputs": [
    {
     "output_type": "stream",
     "name": "stderr",
     "text": [
      "INFO Starts Get data script\n"
     ]
    }
   ],
   "metadata": {}
  },
  {
   "cell_type": "code",
   "execution_count": 2,
   "source": [
    "elevation_df = get_geopandas_dataframe()"
   ],
   "outputs": [
    {
     "output_type": "stream",
     "name": "stderr",
     "text": [
      "INFO Polygon input success!\n",
      "INFO Rectangular input extracted successfully\n",
      "INFO pipeline initiated\n"
     ]
    },
    {
     "output_type": "stream",
     "name": "stdout",
     "text": [
      "POLYGON((-10436887.43333523 5148706.389047224, -10436887.43333523 5149217.145836507, -10435905.484106943 5149217.145836507, -10435905.484106943 5148706.389047224, -10436887.43333523 5148706.389047224))\n",
      "403331"
     ]
    },
    {
     "output_type": "stream",
     "name": "stderr",
     "text": [
      "INFO Pipeline executed and metadata generated successfully\n",
      "INFO Pipeline arrays successfully returned.\n"
     ]
    },
    {
     "output_type": "stream",
     "name": "stdout",
     "text": [
      "\n",
      "{\n",
      "  \"metadata\":\n",
      "  {\n",
      "    \"filters.crop\":\n",
      "    {\n",
      "    },\n",
      "    \"filters.range\":\n",
      "    {\n",
      "    },\n",
      "    \"filters.reprojection\":\n",
      "    {\n",
      "      \"comp_spatialreference\": \"GEOGCS[\\\"WGS 84\\\",DATUM[\\\"WGS_1984\\\",SPHEROID[\\\"WGS 84\\\",6378137,298.257223563,AUTHORITY[\\\"EPSG\\\",\\\"7030\\\"]],AUTHORITY[\\\"EPSG\\\",\\\"6326\\\"]],PRIMEM[\\\"Greenwich\\\",0,AUTHORITY[\\\"EPSG\\\",\\\"8901\\\"]],UNIT[\\\"degree\\\",0.0174532925199433,AUTHORITY[\\\"EPSG\\\",\\\"9122\\\"]],AXIS[\\\"Latitude\\\",NORTH],AXIS[\\\"Longitude\\\",EAST],AUTHORITY[\\\"EPSG\\\",\\\"4326\\\"]]\",\n",
      "      \"spatialreference\": \"GEOGCS[\\\"WGS 84\\\",DATUM[\\\"WGS_1984\\\",SPHEROID[\\\"WGS 84\\\",6378137,298.257223563,AUTHORITY[\\\"EPSG\\\",\\\"7030\\\"]],AUTHORITY[\\\"EPSG\\\",\\\"6326\\\"]],PRIMEM[\\\"Greenwich\\\",0,AUTHORITY[\\\"EPSG\\\",\\\"8901\\\"]],UNIT[\\\"degree\\\",0.0174532925199433,AUTHORITY[\\\"EPSG\\\",\\\"9122\\\"]],AXIS[\\\"Latitude\\\",NORTH],AXIS[\\\"Longitude\\\",EAST],AUTHORITY[\\\"EPSG\\\",\\\"4326\\\"]]\",\n",
      "      \"srs\":\n",
      "      {\n",
      "        \"compoundwkt\": \"GEOGCS[\\\"WGS 84\\\",DATUM[\\\"WGS_1984\\\",SPHEROID[\\\"WGS 84\\\",6378137,298.257223563,AUTHORITY[\\\"EPSG\\\",\\\"7030\\\"]],AUTHORITY[\\\"EPSG\\\",\\\"6326\\\"]],PRIMEM[\\\"Greenwich\\\",0,AUTHORITY[\\\"EPSG\\\",\\\"8901\\\"]],UNIT[\\\"degree\\\",0.0174532925199433,AUTHORITY[\\\"EPSG\\\",\\\"9122\\\"]],AXIS[\\\"Latitude\\\",NORTH],AXIS[\\\"Longitude\\\",EAST],AUTHORITY[\\\"EPSG\\\",\\\"4326\\\"]]\",\n",
      "        \"horizontal\": \"GEOGCS[\\\"WGS 84\\\",DATUM[\\\"WGS_1984\\\",SPHEROID[\\\"WGS 84\\\",6378137,298.257223563,AUTHORITY[\\\"EPSG\\\",\\\"7030\\\"]],AUTHORITY[\\\"EPSG\\\",\\\"6326\\\"]],PRIMEM[\\\"Greenwich\\\",0,AUTHORITY[\\\"EPSG\\\",\\\"8901\\\"]],UNIT[\\\"degree\\\",0.0174532925199433,AUTHORITY[\\\"EPSG\\\",\\\"9122\\\"]],AXIS[\\\"Latitude\\\",NORTH],AXIS[\\\"Longitude\\\",EAST],AUTHORITY[\\\"EPSG\\\",\\\"4326\\\"]]\",\n",
      "        \"isgeocentric\": false,\n",
      "        \"isgeographic\": true,\n",
      "        \"prettycompoundwkt\": \"GEOGCS[\\\"WGS 84\\\",\\n    DATUM[\\\"WGS_1984\\\",\\n        SPHEROID[\\\"WGS 84\\\",6378137,298.257223563,\\n            AUTHORITY[\\\"EPSG\\\",\\\"7030\\\"]],\\n        AUTHORITY[\\\"EPSG\\\",\\\"6326\\\"]],\\n    PRIMEM[\\\"Greenwich\\\",0,\\n        AUTHORITY[\\\"EPSG\\\",\\\"8901\\\"]],\\n    UNIT[\\\"degree\\\",0.0174532925199433,\\n        AUTHORITY[\\\"EPSG\\\",\\\"9122\\\"]],\\n    AXIS[\\\"Latitude\\\",NORTH],\\n    AXIS[\\\"Longitude\\\",EAST],\\n    AUTHORITY[\\\"EPSG\\\",\\\"4326\\\"]]\",\n",
      "        \"prettywkt\": \"GEOGCS[\\\"WGS 84\\\",\\n    DATUM[\\\"WGS_1984\\\",\\n        SPHEROID[\\\"WGS 84\\\",6378137,298.257223563,\\n            AUTHORITY[\\\"EPSG\\\",\\\"7030\\\"]],\\n        AUTHORITY[\\\"EPSG\\\",\\\"6326\\\"]],\\n    PRIMEM[\\\"Greenwich\\\",0,\\n        AUTHORITY[\\\"EPSG\\\",\\\"8901\\\"]],\\n    UNIT[\\\"degree\\\",0.0174532925199433,\\n        AUTHORITY[\\\"EPSG\\\",\\\"9122\\\"]],\\n    AXIS[\\\"Latitude\\\",NORTH],\\n    AXIS[\\\"Longitude\\\",EAST],\\n    AUTHORITY[\\\"EPSG\\\",\\\"4326\\\"]]\",\n",
      "        \"proj4\": \"+proj=longlat +datum=WGS84 +no_defs\",\n",
      "        \"units\":\n",
      "        {\n",
      "          \"horizontal\": \"unknown\",\n",
      "          \"vertical\": \"\"\n",
      "        },\n",
      "        \"vertical\": \"\",\n",
      "        \"wkt\": \"GEOGCS[\\\"WGS 84\\\",DATUM[\\\"WGS_1984\\\",SPHEROID[\\\"WGS 84\\\",6378137,298.257223563,AUTHORITY[\\\"EPSG\\\",\\\"7030\\\"]],AUTHORITY[\\\"EPSG\\\",\\\"6326\\\"]],PRIMEM[\\\"Greenwich\\\",0,AUTHORITY[\\\"EPSG\\\",\\\"8901\\\"]],UNIT[\\\"degree\\\",0.0174532925199433,AUTHORITY[\\\"EPSG\\\",\\\"9122\\\"]],AXIS[\\\"Latitude\\\",NORTH],AXIS[\\\"Longitude\\\",EAST],AUTHORITY[\\\"EPSG\\\",\\\"4326\\\"]]\"\n",
      "      }\n",
      "    },\n",
      "    \"readers.ept\":\n",
      "    {\n",
      "      \"comp_spatialreference\": \"PROJCS[\\\"WGS 84 / Pseudo-Mercator\\\",GEOGCS[\\\"WGS 84\\\",DATUM[\\\"WGS_1984\\\",SPHEROID[\\\"WGS 84\\\",6378137,298.257223563,AUTHORITY[\\\"EPSG\\\",\\\"7030\\\"]],AUTHORITY[\\\"EPSG\\\",\\\"6326\\\"]],PRIMEM[\\\"Greenwich\\\",0,AUTHORITY[\\\"EPSG\\\",\\\"8901\\\"]],UNIT[\\\"degree\\\",0.0174532925199433,AUTHORITY[\\\"EPSG\\\",\\\"9122\\\"]],AUTHORITY[\\\"EPSG\\\",\\\"4326\\\"]],PROJECTION[\\\"Mercator_1SP\\\"],PARAMETER[\\\"central_meridian\\\",0],PARAMETER[\\\"scale_factor\\\",1],PARAMETER[\\\"false_easting\\\",0],PARAMETER[\\\"false_northing\\\",0],UNIT[\\\"metre\\\",1,AUTHORITY[\\\"EPSG\\\",\\\"9001\\\"]],AXIS[\\\"X\\\",EAST],AXIS[\\\"Y\\\",NORTH],EXTENSION[\\\"PROJ4\\\",\\\"+proj=merc +a=6378137 +b=6378137 +lat_ts=0.0 +lon_0=0.0 +x_0=0.0 +y_0=0 +k=1.0 +units=m +nadgrids=@null +wktext +no_defs\\\"],AUTHORITY[\\\"EPSG\\\",\\\"3857\\\"]]\",\n",
      "      \"spatialreference\": \"PROJCS[\\\"WGS 84 / Pseudo-Mercator\\\",GEOGCS[\\\"WGS 84\\\",DATUM[\\\"WGS_1984\\\",SPHEROID[\\\"WGS 84\\\",6378137,298.257223563,AUTHORITY[\\\"EPSG\\\",\\\"7030\\\"]],AUTHORITY[\\\"EPSG\\\",\\\"6326\\\"]],PRIMEM[\\\"Greenwich\\\",0,AUTHORITY[\\\"EPSG\\\",\\\"8901\\\"]],UNIT[\\\"degree\\\",0.0174532925199433,AUTHORITY[\\\"EPSG\\\",\\\"9122\\\"]],AUTHORITY[\\\"EPSG\\\",\\\"4326\\\"]],PROJECTION[\\\"Mercator_1SP\\\"],PARAMETER[\\\"central_meridian\\\",0],PARAMETER[\\\"scale_factor\\\",1],PARAMETER[\\\"false_easting\\\",0],PARAMETER[\\\"false_northing\\\",0],UNIT[\\\"metre\\\",1,AUTHORITY[\\\"EPSG\\\",\\\"9001\\\"]],AXIS[\\\"X\\\",EAST],AXIS[\\\"Y\\\",NORTH],EXTENSION[\\\"PROJ4\\\",\\\"+proj=merc +a=6378137 +b=6378137 +lat_ts=0.0 +lon_0=0.0 +x_0=0.0 +y_0=0 +k=1.0 +units=m +nadgrids=@null +wktext +no_defs\\\"],AUTHORITY[\\\"EPSG\\\",\\\"3857\\\"]]\",\n",
      "      \"srs\":\n",
      "      {\n",
      "        \"compoundwkt\": \"PROJCS[\\\"WGS 84 / Pseudo-Mercator\\\",GEOGCS[\\\"WGS 84\\\",DATUM[\\\"WGS_1984\\\",SPHEROID[\\\"WGS 84\\\",6378137,298.257223563,AUTHORITY[\\\"EPSG\\\",\\\"7030\\\"]],AUTHORITY[\\\"EPSG\\\",\\\"6326\\\"]],PRIMEM[\\\"Greenwich\\\",0,AUTHORITY[\\\"EPSG\\\",\\\"8901\\\"]],UNIT[\\\"degree\\\",0.0174532925199433,AUTHORITY[\\\"EPSG\\\",\\\"9122\\\"]],AUTHORITY[\\\"EPSG\\\",\\\"4326\\\"]],PROJECTION[\\\"Mercator_1SP\\\"],PARAMETER[\\\"central_meridian\\\",0],PARAMETER[\\\"scale_factor\\\",1],PARAMETER[\\\"false_easting\\\",0],PARAMETER[\\\"false_northing\\\",0],UNIT[\\\"metre\\\",1,AUTHORITY[\\\"EPSG\\\",\\\"9001\\\"]],AXIS[\\\"X\\\",EAST],AXIS[\\\"Y\\\",NORTH],EXTENSION[\\\"PROJ4\\\",\\\"+proj=merc +a=6378137 +b=6378137 +lat_ts=0.0 +lon_0=0.0 +x_0=0.0 +y_0=0 +k=1.0 +units=m +nadgrids=@null +wktext +no_defs\\\"],AUTHORITY[\\\"EPSG\\\",\\\"3857\\\"]]\",\n",
      "        \"horizontal\": \"PROJCS[\\\"WGS 84 / Pseudo-Mercator\\\",GEOGCS[\\\"WGS 84\\\",DATUM[\\\"WGS_1984\\\",SPHEROID[\\\"WGS 84\\\",6378137,298.257223563,AUTHORITY[\\\"EPSG\\\",\\\"7030\\\"]],AUTHORITY[\\\"EPSG\\\",\\\"6326\\\"]],PRIMEM[\\\"Greenwich\\\",0,AUTHORITY[\\\"EPSG\\\",\\\"8901\\\"]],UNIT[\\\"degree\\\",0.0174532925199433,AUTHORITY[\\\"EPSG\\\",\\\"9122\\\"]],AUTHORITY[\\\"EPSG\\\",\\\"4326\\\"]],PROJECTION[\\\"Mercator_1SP\\\"],PARAMETER[\\\"central_meridian\\\",0],PARAMETER[\\\"scale_factor\\\",1],PARAMETER[\\\"false_easting\\\",0],PARAMETER[\\\"false_northing\\\",0],UNIT[\\\"metre\\\",1,AUTHORITY[\\\"EPSG\\\",\\\"9001\\\"]],AXIS[\\\"X\\\",EAST],AXIS[\\\"Y\\\",NORTH],EXTENSION[\\\"PROJ4\\\",\\\"+proj=merc +a=6378137 +b=6378137 +lat_ts=0 +lon_0=0 +x_0=0 +y_0=0 +k=1 +units=m +nadgrids=@null +wktext +no_defs\\\"],AUTHORITY[\\\"EPSG\\\",\\\"3857\\\"]]\",\n",
      "        \"isgeocentric\": false,\n",
      "        \"isgeographic\": false,\n",
      "        \"prettycompoundwkt\": \"PROJCS[\\\"WGS 84 / Pseudo-Mercator\\\",\\n    GEOGCS[\\\"WGS 84\\\",\\n        DATUM[\\\"WGS_1984\\\",\\n            SPHEROID[\\\"WGS 84\\\",6378137,298.257223563,\\n                AUTHORITY[\\\"EPSG\\\",\\\"7030\\\"]],\\n            AUTHORITY[\\\"EPSG\\\",\\\"6326\\\"]],\\n        PRIMEM[\\\"Greenwich\\\",0,\\n            AUTHORITY[\\\"EPSG\\\",\\\"8901\\\"]],\\n        UNIT[\\\"degree\\\",0.0174532925199433,\\n            AUTHORITY[\\\"EPSG\\\",\\\"9122\\\"]],\\n        AUTHORITY[\\\"EPSG\\\",\\\"4326\\\"]],\\n    PROJECTION[\\\"Mercator_1SP\\\"],\\n    PARAMETER[\\\"central_meridian\\\",0],\\n    PARAMETER[\\\"scale_factor\\\",1],\\n    PARAMETER[\\\"false_easting\\\",0],\\n    PARAMETER[\\\"false_northing\\\",0],\\n    UNIT[\\\"metre\\\",1,\\n        AUTHORITY[\\\"EPSG\\\",\\\"9001\\\"]],\\n    AXIS[\\\"X\\\",EAST],\\n    AXIS[\\\"Y\\\",NORTH],\\n    EXTENSION[\\\"PROJ4\\\",\\\"+proj=merc +a=6378137 +b=6378137 +lat_ts=0 +lon_0=0 +x_0=0 +y_0=0 +k=1 +units=m +nadgrids=@null +wktext +no_defs\\\"],\\n    AUTHORITY[\\\"EPSG\\\",\\\"3857\\\"]]\",\n",
      "        \"prettywkt\": \"PROJCS[\\\"WGS 84 / Pseudo-Mercator\\\",\\n    GEOGCS[\\\"WGS 84\\\",\\n        DATUM[\\\"WGS_1984\\\",\\n            SPHEROID[\\\"WGS 84\\\",6378137,298.257223563,\\n                AUTHORITY[\\\"EPSG\\\",\\\"7030\\\"]],\\n            AUTHORITY[\\\"EPSG\\\",\\\"6326\\\"]],\\n        PRIMEM[\\\"Greenwich\\\",0,\\n            AUTHORITY[\\\"EPSG\\\",\\\"8901\\\"]],\\n        UNIT[\\\"degree\\\",0.0174532925199433,\\n            AUTHORITY[\\\"EPSG\\\",\\\"9122\\\"]],\\n        AUTHORITY[\\\"EPSG\\\",\\\"4326\\\"]],\\n    PROJECTION[\\\"Mercator_1SP\\\"],\\n    PARAMETER[\\\"central_meridian\\\",0],\\n    PARAMETER[\\\"scale_factor\\\",1],\\n    PARAMETER[\\\"false_easting\\\",0],\\n    PARAMETER[\\\"false_northing\\\",0],\\n    UNIT[\\\"metre\\\",1,\\n        AUTHORITY[\\\"EPSG\\\",\\\"9001\\\"]],\\n    AXIS[\\\"X\\\",EAST],\\n    AXIS[\\\"Y\\\",NORTH],\\n    EXTENSION[\\\"PROJ4\\\",\\\"+proj=merc +a=6378137 +b=6378137 +lat_ts=0 +lon_0=0 +x_0=0 +y_0=0 +k=1 +units=m +nadgrids=@null +wktext +no_defs\\\"],\\n    AUTHORITY[\\\"EPSG\\\",\\\"3857\\\"]]\",\n",
      "        \"proj4\": \"+proj=merc +a=6378137 +b=6378137 +lat_ts=0 +lon_0=0 +x_0=0 +y_0=0 +k=1 +units=m +nadgrids=@null +wktext +no_defs\",\n",
      "        \"units\":\n",
      "        {\n",
      "          \"horizontal\": \"metre\",\n",
      "          \"vertical\": \"\"\n",
      "        },\n",
      "        \"vertical\": \"\",\n",
      "        \"wkt\": \"PROJCS[\\\"WGS 84 / Pseudo-Mercator\\\",GEOGCS[\\\"WGS 84\\\",DATUM[\\\"WGS_1984\\\",SPHEROID[\\\"WGS 84\\\",6378137,298.257223563,AUTHORITY[\\\"EPSG\\\",\\\"7030\\\"]],AUTHORITY[\\\"EPSG\\\",\\\"6326\\\"]],PRIMEM[\\\"Greenwich\\\",0,AUTHORITY[\\\"EPSG\\\",\\\"8901\\\"]],UNIT[\\\"degree\\\",0.0174532925199433,AUTHORITY[\\\"EPSG\\\",\\\"9122\\\"]],AUTHORITY[\\\"EPSG\\\",\\\"4326\\\"]],PROJECTION[\\\"Mercator_1SP\\\"],PARAMETER[\\\"central_meridian\\\",0],PARAMETER[\\\"scale_factor\\\",1],PARAMETER[\\\"false_easting\\\",0],PARAMETER[\\\"false_northing\\\",0],UNIT[\\\"metre\\\",1,AUTHORITY[\\\"EPSG\\\",\\\"9001\\\"]],AXIS[\\\"X\\\",EAST],AXIS[\\\"Y\\\",NORTH],EXTENSION[\\\"PROJ4\\\",\\\"+proj=merc +a=6378137 +b=6378137 +lat_ts=0 +lon_0=0 +x_0=0 +y_0=0 +k=1 +units=m +nadgrids=@null +wktext +no_defs\\\"],AUTHORITY[\\\"EPSG\\\",\\\"3857\\\"]]\"\n",
      "      }\n",
      "    },\n",
      "    \"writers.las\":\n",
      "    {\n",
      "      \"filename\":\n",
      "      [\n",
      "        \"../data/laz/SoPlatteRiver.las\"\n",
      "      ]\n",
      "    }\n",
      "  }\n",
      "}\n",
      "\n",
      "PIPE EXEC return\n",
      "[array([(1, 0, 53282.079371,  2, 1, 16762, 11008, 1, -9., 1, 32, -93.74863805, 41.92142475, 317.59),\n",
      "       (1, 0, 53282.079385,  2, 1, 16762, 11008, 1, -9., 1, 32, -93.74862583, 41.92142248, 317.42),\n",
      "       (2, 0, 53282.088794, 31, 1, 16762, 11008, 1, -9., 0, 32, -93.74861855, 41.92141606, 317.27),\n",
      "       ...,\n",
      "       (2, 0, 53289.23239 ,  7, 1, 16762, 11008, 1, 10., 1, 32, -93.75492706, 41.91871532, 313.07),\n",
      "       (2, 0, 53289.232404,  4, 1, 16762, 11008, 1, 10., 1, 32, -93.75491458, 41.91871312, 313.23),\n",
      "       (1, 0, 53289.232418,  7, 1, 16762, 11008, 1, 10., 1, 32, -93.75490182, 41.91871078, 313.41)],\n",
      "      dtype=[('Classification', 'u1'), ('EdgeOfFlightLine', 'u1'), ('GpsTime', '<f8'), ('Intensity', '<u2'), ('NumberOfReturns', 'u1'), ('OriginId', '<u4'), ('PointSourceId', '<u2'), ('ReturnNumber', 'u1'), ('ScanAngleRank', '<f4'), ('ScanDirectionFlag', 'u1'), ('UserData', 'u1'), ('X', '<f8'), ('Y', '<f8'), ('Z', '<f8')])]\n",
      "        elevation                    geometry\n",
      "0          317.59  POINT (-93.74864 41.92142)\n",
      "1          317.42  POINT (-93.74863 41.92142)\n",
      "2          317.27  POINT (-93.74862 41.92142)\n",
      "3          317.28  POINT (-93.74865 41.92142)\n",
      "4          317.25  POINT (-93.74867 41.92142)\n",
      "...           ...                         ...\n",
      "403326     313.02  POINT (-93.75496 41.91872)\n",
      "403327     313.24  POINT (-93.75494 41.91872)\n",
      "403328     313.07  POINT (-93.75493 41.91872)\n",
      "403329     313.23  POINT (-93.75491 41.91871)\n",
      "403330     313.41  POINT (-93.75490 41.91871)\n",
      "\n",
      "[403331 rows x 2 columns]\n"
     ]
    }
   ],
   "metadata": {}
  },
  {
   "cell_type": "code",
   "execution_count": 3,
   "source": [
    "elevation_df.head()"
   ],
   "outputs": [
    {
     "output_type": "execute_result",
     "data": {
      "text/plain": [
       "   elevation                    geometry\n",
       "0     317.59  POINT (-93.74864 41.92142)\n",
       "1     317.42  POINT (-93.74863 41.92142)\n",
       "2     317.27  POINT (-93.74862 41.92142)\n",
       "3     317.28  POINT (-93.74865 41.92142)\n",
       "4     317.25  POINT (-93.74867 41.92142)"
      ],
      "text/html": [
       "<div>\n",
       "<style scoped>\n",
       "    .dataframe tbody tr th:only-of-type {\n",
       "        vertical-align: middle;\n",
       "    }\n",
       "\n",
       "    .dataframe tbody tr th {\n",
       "        vertical-align: top;\n",
       "    }\n",
       "\n",
       "    .dataframe thead th {\n",
       "        text-align: right;\n",
       "    }\n",
       "</style>\n",
       "<table border=\"1\" class=\"dataframe\">\n",
       "  <thead>\n",
       "    <tr style=\"text-align: right;\">\n",
       "      <th></th>\n",
       "      <th>elevation</th>\n",
       "      <th>geometry</th>\n",
       "    </tr>\n",
       "  </thead>\n",
       "  <tbody>\n",
       "    <tr>\n",
       "      <th>0</th>\n",
       "      <td>317.59</td>\n",
       "      <td>POINT (-93.74864 41.92142)</td>\n",
       "    </tr>\n",
       "    <tr>\n",
       "      <th>1</th>\n",
       "      <td>317.42</td>\n",
       "      <td>POINT (-93.74863 41.92142)</td>\n",
       "    </tr>\n",
       "    <tr>\n",
       "      <th>2</th>\n",
       "      <td>317.27</td>\n",
       "      <td>POINT (-93.74862 41.92142)</td>\n",
       "    </tr>\n",
       "    <tr>\n",
       "      <th>3</th>\n",
       "      <td>317.28</td>\n",
       "      <td>POINT (-93.74865 41.92142)</td>\n",
       "    </tr>\n",
       "    <tr>\n",
       "      <th>4</th>\n",
       "      <td>317.25</td>\n",
       "      <td>POINT (-93.74867 41.92142)</td>\n",
       "    </tr>\n",
       "  </tbody>\n",
       "</table>\n",
       "</div>"
      ]
     },
     "metadata": {},
     "execution_count": 3
    }
   ],
   "metadata": {}
  },
  {
   "cell_type": "code",
   "execution_count": 9,
   "source": [
    "print(type(elevation_df))"
   ],
   "outputs": [
    {
     "output_type": "stream",
     "name": "stdout",
     "text": [
      "<class 'geopandas.geodataframe.GeoDataFrame'>\n"
     ]
    }
   ],
   "metadata": {}
  },
  {
   "cell_type": "code",
   "execution_count": 5,
   "source": [
    "from usgslidar.visualize import plot_3d_map"
   ],
   "outputs": [
    {
     "output_type": "stream",
     "name": "stderr",
     "text": [
      "INFO Starts Visualize script\n"
     ]
    }
   ],
   "metadata": {}
  },
  {
   "cell_type": "code",
   "execution_count": 6,
   "source": [
    "plot_3d_map(df=elevation_df)"
   ],
   "outputs": [
    {
     "output_type": "stream",
     "name": "stdout",
     "text": [
      "        elevation                    geometry\n",
      "0          317.59  POINT (-93.74864 41.92142)\n",
      "1          317.42  POINT (-93.74863 41.92142)\n",
      "2          317.27  POINT (-93.74862 41.92142)\n",
      "3          317.28  POINT (-93.74865 41.92142)\n",
      "4          317.25  POINT (-93.74867 41.92142)\n",
      "...           ...                         ...\n",
      "403326     313.02  POINT (-93.75496 41.91872)\n",
      "403327     313.24  POINT (-93.75494 41.91872)\n",
      "403328     313.07  POINT (-93.75493 41.91872)\n",
      "403329     313.23  POINT (-93.75491 41.91871)\n",
      "403330     313.41  POINT (-93.75490 41.91871)\n",
      "\n",
      "[403331 rows x 2 columns]\n",
      "NADAA\n",
      "403331\n",
      "[[0 0 0]\n",
      " [0 0 0]\n",
      " [0 0 0]\n",
      " ...\n",
      " [0 0 0]\n",
      " [0 0 0]\n",
      " [0 0 0]]\n"
     ]
    }
   ],
   "metadata": {}
  }
 ],
 "metadata": {
  "orig_nbformat": 4,
  "language_info": {
   "name": "python",
   "version": "3.9.6",
   "mimetype": "text/x-python",
   "codemirror_mode": {
    "name": "ipython",
    "version": 3
   },
   "pygments_lexer": "ipython3",
   "nbconvert_exporter": "python",
   "file_extension": ".py"
  },
  "kernelspec": {
   "name": "python3",
   "display_name": "Python 3.9.6 64-bit ('usgslidar': conda)"
  },
  "interpreter": {
   "hash": "398eaa169a8bb7482cb11a6c97047fe005eb9fc68a23714fd9acd9e5def02562"
  }
 },
 "nbformat": 4,
 "nbformat_minor": 2
}